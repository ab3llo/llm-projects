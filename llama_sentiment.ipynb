{
 "cells": [
  {
   "cell_type": "markdown",
   "metadata": {},
   "source": [
    "# Finetunning LLaMa 7B for sentiment analysis\n",
    "\n",
    "1. Install dependencies\n",
    "2. Load model\n",
    "3. Test prompt\n",
    "4. Create insturction tuned dataset\n",
    "5. Run training\n",
    "6. Test prompt"
   ]
  },
  {
   "cell_type": "code",
   "execution_count": null,
   "metadata": {},
   "outputs": [],
   "source": [
    "!pip install transformers accelerate datasets trl"
   ]
  }
 ],
 "metadata": {
  "language_info": {
   "name": "python"
  }
 },
 "nbformat": 4,
 "nbformat_minor": 2
}
